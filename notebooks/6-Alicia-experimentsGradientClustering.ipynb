{
 "cells": [
  {
   "cell_type": "markdown",
   "id": "d46521b1",
   "metadata": {},
   "source": [
    "# imports:"
   ]
  },
  {
   "cell_type": "code",
   "execution_count": 1,
   "id": "056df2a6",
   "metadata": {},
   "outputs": [
    {
     "name": "stderr",
     "output_type": "stream",
     "text": [
      "2022-02-17 21:38:00.385829: W tensorflow/stream_executor/platform/default/dso_loader.cc:64] Could not load dynamic library 'libcudart.so.11.0'; dlerror: libcudart.so.11.0: cannot open shared object file: No such file or directory\n",
      "2022-02-17 21:38:00.385858: I tensorflow/stream_executor/cuda/cudart_stub.cc:29] Ignore above cudart dlerror if you do not have a GPU set up on your machine.\n"
     ]
    }
   ],
   "source": [
    "import numpy as np\n",
    "import tensorflow as tf\n",
    "from tensorflow import keras\n",
    "from tensorflow.keras import layers\n",
    "import os\n",
    "from tqdm import tqdm\n",
    "\n",
    "import sys\n",
    "os.environ['TF_CPP_MIN_LOG_LEVEL'] = '3' #for no tensorflow warnings\"\n",
    "sys.path.append(os.path.abspath('..'))"
   ]
  },
  {
   "cell_type": "code",
   "execution_count": 2,
   "id": "31db9e3a",
   "metadata": {},
   "outputs": [
    {
     "name": "stdout",
     "output_type": "stream",
     "text": [
      "Warning: No config for GTSRB data provided\n"
     ]
    }
   ],
   "source": [
    "from src import *\n",
    "from models import *\n",
    "from src.main import Cluster_Class, set_file_model, set_keras_model\n",
    "from src.models import Keras_Model\n",
    "from src.cluster_methods import SensitivityAnalysis\n",
    "from src.data_utils import get_MNIST_data"
   ]
  },
  {
   "cell_type": "code",
   "execution_count": 3,
   "id": "a159c734",
   "metadata": {},
   "outputs": [],
   "source": [
    "import pickle\n",
    "with open('MNIST_5x100_jacobian.pkl', 'rb') as f:\n",
    "    all_jacobians = pickle.load(f)"
   ]
  },
  {
   "cell_type": "markdown",
   "id": "69d6e4d8",
   "metadata": {},
   "source": [
    "# setup:"
   ]
  },
  {
   "cell_type": "code",
   "execution_count": 4,
   "id": "81f545ae",
   "metadata": {},
   "outputs": [],
   "source": [
    "from sklearn.metrics.pairwise import cosine_distances\n",
    "def pairwise_cosine_dist(A):\n",
    "    D = cosine_distances(A)\n",
    "    return D\n",
    "\n",
    "def get_distances(jacobian):\n",
    "    distances = {}\n",
    "    for k in jacobian.keys():\n",
    "        if k != 'in' and k != 'out':\n",
    "            j = jacobian[k].T\n",
    "            distances[k] = pairwise_cosine_dist(j)\n",
    "    return distances"
   ]
  },
  {
   "cell_type": "code",
   "execution_count": 125,
   "id": "7ddb260b",
   "metadata": {},
   "outputs": [],
   "source": [
    "def load_model():\n",
    "    def softmax_loss():        \n",
    "        def loss(y_true, y_pred):\n",
    "            y_soft = tf.keras.activations.softmax(y_pred, axis=1)\n",
    "            loss_soft=keras.losses.SparseCategoricalCrossentropy()(y_true, y_soft)\n",
    "            return loss_soft\n",
    "        return loss\n",
    "    model = tf.keras.models.load_model('MNIST_5x100.h5', custom_objects={'loss': softmax_loss()})\n",
    "    return model\n",
    "\n",
    "def cluster_new(distances, eps, rrs, IDX, verbose=True):\n",
    "    def softmax_loss():        \n",
    "        def loss(y_true, y_pred):\n",
    "            y_soft = tf.keras.activations.softmax(y_pred, axis=1)\n",
    "            loss_soft=keras.losses.SparseCategoricalCrossentropy()(y_true, y_soft)\n",
    "            return loss_soft\n",
    "        return loss\n",
    "    model = tf.keras.models.load_model('MNIST_5x100.h5', custom_objects={'loss': softmax_loss()})\n",
    "    \n",
    "    m = set_keras_model(model)\n",
    "    m.update_keras()\n",
    "    print(\"model accuracy. \", m.test_accuracy(verbose=False))\n",
    "    print(\"pre_acc: \", m.test_MNIST_labelacc(IDX))\n",
    "    \n",
    "    SA = SensitivityAnalysis(distances = distances, eps=eps, rrs=rrs)\n",
    "    \n",
    "    cc = Cluster_Class(m, [10], cl_method=\"gradients\", test_method=SA)\n",
    "    acc, dic = cc.perform_clustering(verbose=verbose)\n",
    "    print(acc, dic)\n",
    "    print(\"model accuracy on class {0}. \".format(IDX), m.test_MNIST_labelacc(IDX))\n",
    "    m.update_keras()\n",
    "    return m.model"
   ]
  },
  {
   "cell_type": "markdown",
   "id": "e77ffca0",
   "metadata": {},
   "source": [
    "# experiments:"
   ]
  },
  {
   "cell_type": "code",
   "execution_count": 94,
   "id": "01dd1ed7",
   "metadata": {},
   "outputs": [
    {
     "name": "stdout",
     "output_type": "stream",
     "text": [
      "[('d1', (100, 100)), ('d2', (100, 100)), ('d3', (100, 100)), ('d4', (100, 100)), ('d5', (100, 100))]\n"
     ]
    }
   ],
   "source": [
    "IDX = 6\n",
    "curr_jac = all_jacobians[IDX] #denoised_jacobian\n",
    "for key in curr_jac.keys():\n",
    "    curr_jac[key] -= np.amin(curr_jac[key])\n",
    "    curr_jac[key] /= np.amax(curr_jac[key])\n",
    "distances = get_distances(curr_jac)\n",
    "print([(key, distances[key].shape) for key in distances.keys()])"
   ]
  },
  {
   "cell_type": "code",
   "execution_count": 25,
   "id": "40774e4c",
   "metadata": {},
   "outputs": [],
   "source": [
    "eps = {1: 1e-7, 2:1e-7, 3:1e-7, 4:1e-7, 5:1e-7}\n",
    "rrs = {1: 0.0, 2:0.0, 3:0.0, 4:0.4, 5:0.4}"
   ]
  },
  {
   "cell_type": "code",
   "execution_count": 26,
   "id": "deb60855",
   "metadata": {},
   "outputs": [
    {
     "name": "stdout",
     "output_type": "stream",
     "text": [
      "model accuracy.  0.9764999747276306\n",
      "pre_acc:  0.9670542478561401\n",
      "Test set accuracy:  0.9764999747276306\n",
      "----- [Get Activations] -----\n",
      "----- [Start Clustering] -----\n",
      "   - Layer 1\n",
      "----- [Get Clusters] -----\n",
      "using d1 with eps=1e-07\n",
      "labels \n",
      " ['-1:(100,)']\n",
      "num neurons reduced=0\n",
      "[]\n",
      "   - Layer 2\n",
      "----- [Get Clusters] -----\n",
      "using d2 with eps=1e-07\n",
      "labels \n",
      " ['-1:(100,)']\n",
      "num neurons reduced=0\n",
      "[]\n",
      "   - Layer 3\n",
      "----- [Get Clusters] -----\n",
      "using d3 with eps=1e-07\n",
      "labels \n",
      " ['-1:(100,)']\n",
      "num neurons reduced=0\n",
      "[]\n",
      "   - Layer 4\n",
      "----- [Get Clusters] -----\n",
      "Binary Search started ...\n",
      "     eps = 1.0, rr = 1.0\n",
      "     eps = 0.5, rr = 1.0\n",
      "     eps = 0.25, rr = 1.0\n",
      "     eps = 0.125, rr = 1.0\n",
      "     eps = 0.0625, rr = 1.0\n",
      "     eps = 0.03125, rr = 0.78\n",
      "     eps = 0.015625, rr = 0.17\n",
      "     eps = 0.0234375, rr = 0.52\n",
      "     eps = 0.01953125, rr = 0.38\n",
      "     eps = 0.021484375, rr = 0.47\n",
      "     eps = 0.0205078125, rr = 0.43\n",
      "     eps = 0.02001953125, rr = 0.41\n",
      "using d4 with eps=1e-07\n",
      "labels \n",
      " ['-1:(51,)', '0:(9,)', '1:(2,)', '2:(27,)', '3:(3,)', '4:(2,)', '5:(2,)', '6:(2,)', '7:(2,)']\n",
      "num neurons reduced=41\n",
      "[(0, array([ 0,  2, 10, 32, 69, 74, 85, 89, 95]), 2, 0, 87.37786), (1, array([ 1, 82]), 1, 0, 38.898407), (2, array([ 3,  7,  8,  9, 15, 16, 17, 18, 21, 26, 27, 30, 34, 42, 43, 58, 59,\n",
      "       62, 65, 68, 73, 84, 90, 92, 97, 98, 99]), 27, 0, 99.32767), (3, array([25, 66, 70]), 25, 0, 50.420185), (4, array([28, 39]), 28, 0, 50.164352), (5, array([55, 86]), 55, 0, 33.637444), (6, array([72, 78]), 72, 0, 44.96295), (7, array([79, 88]), 79, 0, 24.932482)]\n",
      "----- [Apply the Clustering to the Network] -----\n",
      "   - Layer 5\n",
      "----- [Get Clusters] -----\n",
      "Binary Search started ...\n",
      "     eps = 1.0, rr = 1.0\n",
      "     eps = 0.5, rr = 1.0\n",
      "     eps = 0.25, rr = 1.0\n",
      "     eps = 0.125, rr = 1.0\n",
      "     eps = 0.0625, rr = 1.0\n",
      "     eps = 0.03125, rr = 0.83\n",
      "     eps = 0.015625, rr = 0.12\n",
      "     eps = 0.0234375, rr = 0.46\n",
      "     eps = 0.01953125, rr = 0.23\n",
      "     eps = 0.021484375, rr = 0.33\n",
      "     eps = 0.0224609375, rr = 0.38\n",
      "     eps = 0.02294921875, rr = 0.41\n",
      "using d5 with eps=1e-07\n",
      "labels \n",
      " ['-1:(50,)', '0:(22,)', '1:(6,)', '2:(2,)', '3:(6,)', '4:(4,)', '5:(3,)', '6:(2,)', '7:(3,)', '8:(2,)']\n",
      "num neurons reduced=41\n",
      "[(0, array([ 0,  4, 16, 22, 24, 27, 29, 30, 36, 39, 40, 55, 56, 61, 68, 69, 75,\n",
      "       79, 92, 93, 96, 99]), 16, 0, 125.10121), (1, array([ 1, 13, 18, 44, 62, 76]), 1, 0, 102.904465), (2, array([ 5, 10]), 5, 0, 87.573326), (3, array([ 9, 26, 32, 42, 46, 88]), 88, 0, 138.96136), (4, array([19, 21, 67, 95]), 95, 0, 119.98466), (5, array([33, 43, 86]), 43, 0, 73.53471), (6, array([51, 84]), 51, 0, 76.69038), (7, array([52, 78, 82]), 82, 0, 68.91922), (8, array([70, 90]), 70, 0, 74.54007)]\n",
      "----- [Apply the Clustering to the Network] -----\n",
      "Overall Time:  4.3672308921813965\n",
      "Test set accuracy:  0.914900004863739\n",
      "----- [End Clustering] -----\n",
      "0.914900004863739 {'rr': 0.16400000000000003, 'time': 7.274164438247681, 'rr_rel': 0.164}\n",
      "model accuracy on class 2.  0.9583333134651184\n"
     ]
    }
   ],
   "source": [
    "model = cluster_new(distances, IDX, eps, rrs)"
   ]
  },
  {
   "cell_type": "code",
   "execution_count": null,
   "id": "81e899a0",
   "metadata": {},
   "outputs": [],
   "source": []
  },
  {
   "cell_type": "markdown",
   "id": "7a020de6",
   "metadata": {},
   "source": [
    "# experiment 1: is confustion matrix related to performance?"
   ]
  },
  {
   "cell_type": "code",
   "execution_count": 104,
   "id": "c1909d77",
   "metadata": {},
   "outputs": [
    {
     "name": "stdout",
     "output_type": "stream",
     "text": [
      "[('d1', (100, 100)), ('d2', (100, 100)), ('d3', (100, 100)), ('d4', (100, 100)), ('d5', (100, 100))]\n"
     ]
    }
   ],
   "source": [
    "IDX = 5\n",
    "curr_jac = all_jacobians[IDX] #denoised_jacobian\n",
    "for key in curr_jac.keys():\n",
    "    curr_jac[key] -= np.amin(curr_jac[key])\n",
    "    curr_jac[key] /= np.amax(curr_jac[key])\n",
    "distances = get_distances(curr_jac)\n",
    "print([(key, distances[key].shape) for key in distances.keys()])"
   ]
  },
  {
   "cell_type": "code",
   "execution_count": 105,
   "id": "f3b0e341",
   "metadata": {},
   "outputs": [],
   "source": [
    "def softmax_loss():        \n",
    "    def loss(y_true, y_pred):\n",
    "        y_soft = tf.keras.activations.softmax(y_pred, axis=1)\n",
    "        loss_soft=keras.losses.SparseCategoricalCrossentropy()(y_true, y_soft)\n",
    "        return loss_soft\n",
    "    return loss\n",
    "model = tf.keras.models.load_model('MNIST_5x100.h5', custom_objects={'loss': softmax_loss()})"
   ]
  },
  {
   "cell_type": "code",
   "execution_count": 106,
   "id": "9cffdfad",
   "metadata": {},
   "outputs": [],
   "source": [
    "from sklearn.metrics import confusion_matrix\n",
    "\n",
    "data = get_MNIST_data()\n",
    "y_test = data['y_test']\n",
    "X_test = data['X_test']\n",
    "y_pred = np.argmax(model(X_test), axis=1)\n",
    "\n",
    "confusion = confusion_matrix(y_test, y_pred)"
   ]
  },
  {
   "cell_type": "code",
   "execution_count": null,
   "id": "9504fc67",
   "metadata": {},
   "outputs": [],
   "source": [
    "rrs = {1: 0.0, 2:0.4, 3:0.4, 4:0.4, 5:0.4}\n",
    "model = cluster_new(distances, IDX, eps, rrs, verbose=False)\n",
    "y_pred_post = np.argmax(model(X_test), axis=1)\n",
    "confusion_post = confusion_matrix(y_test, y_pred_post)\n",
    "print(confusion_post)\n",
    "print(confusion)"
   ]
  },
  {
   "cell_type": "code",
   "execution_count": 108,
   "id": "d2e3546e",
   "metadata": {},
   "outputs": [
    {
     "data": {
      "image/png": "[encoded data removed]",
      "text/plain": [
       "<Figure size 432x432 with 1 Axes>"
      ]
     },
     "metadata": {
      "needs_background": "light"
     },
     "output_type": "display_data"
    }
   ],
   "source": [
    "import matplotlib.pyplot as plt\n",
    "plt.imshow(confusion, cmap='viridis', interpolation='nearest', vmin=0, vmax=20)\n",
    "\n",
    "plt.xticks([i for i in range(confusion.shape[0])])\n",
    "plt.yticks([i for i in range(confusion.shape[0])])\n",
    "plt.xlabel('pred')\n",
    "plt.ylabel('true')\n",
    "plt.show()"
   ]
  },
  {
   "cell_type": "code",
   "execution_count": 118,
   "id": "03a095ee",
   "metadata": {},
   "outputs": [
    {
     "data": {
      "image/png": "[encoded data removed]",
      "text/plain": [
       "<Figure size 432x432 with 1 Axes>"
      ]
     },
     "metadata": {
      "needs_background": "light"
     },
     "output_type": "display_data"
    }
   ],
   "source": [
    "import matplotlib.pyplot as plt\n",
    "result = confusion_post - confusion\n",
    "plt.imshow(result, cmap='viridis', interpolation='nearest')\n",
    "plt.rcParams[\"figure.figsize\"] = (6,6)\n",
    "\n",
    "\n",
    "for y in range(confusion.shape[0]):\n",
    "    for x in range(confusion.shape[1]):\n",
    "        plt.text(x, y, '%.0f' % result[y, x],  horizontalalignment='center',\n",
    "                 verticalalignment='center',)\n",
    "\n",
    "plt.xticks([i for i in range(confusion_post.shape[0])])\n",
    "plt.yticks([i for i in range(confusion_post.shape[0])])\n",
    "plt.xlabel('pred')\n",
    "plt.ylabel('true')\n",
    "plt.title('Change in predictions after clustering on class-label {0}:'.format(IDX), fontsize=13)\n",
    "plt.show()"
   ]
  },
  {
   "cell_type": "code",
   "execution_count": null,
   "id": "9d4c458b",
   "metadata": {},
   "outputs": [],
   "source": []
  },
  {
   "cell_type": "markdown",
   "id": "d9fef51e",
   "metadata": {},
   "source": [
    "# experiment 2: clustering on multiple classes"
   ]
  },
  {
   "cell_type": "markdown",
   "id": "6e799663",
   "metadata": {},
   "source": [
    "## approach 1: combine jacobians \"denoised\""
   ]
  },
  {
   "cell_type": "code",
   "execution_count": 126,
   "id": "d3edf9e6",
   "metadata": {},
   "outputs": [
    {
     "name": "stdout",
     "output_type": "stream",
     "text": [
      "[('d1', (100, 100)), ('d2', (100, 100)), ('d3', (100, 100)), ('d4', (100, 100)), ('d5', (100, 100))]\n"
     ]
    }
   ],
   "source": [
    "sample = list(all_jacobians.values())[0]\n",
    "curr_jac = {}\n",
    "\n",
    "for layer in sample.keys():\n",
    "    curr_jac[layer] = np.zeros(sample[layer].shape)\n",
    "    for idx in all_jacobians.keys():   #class labels\n",
    "        tmp = all_jacobians[idx][layer]\n",
    "        curr_jac[layer][idx] = tmp[idx]\n",
    "for key in curr_jac.keys():\n",
    "    curr_jac[key] -= np.amin(curr_jac[key])\n",
    "    curr_jac[key] /= np.amax(curr_jac[key])\n",
    "    \n",
    "distances = get_distances(curr_jac)\n",
    "print([(key, distances[key].shape) for key in distances.keys()])"
   ]
  },
  {
   "cell_type": "markdown",
   "id": "2c70e47d",
   "metadata": {},
   "source": [
    "## approach 2: average jacobians"
   ]
  },
  {
   "cell_type": "code",
   "execution_count": 143,
   "id": "962f03be",
   "metadata": {},
   "outputs": [
    {
     "name": "stdout",
     "output_type": "stream",
     "text": [
      "[('d1', (100, 100)), ('d2', (100, 100)), ('d3', (100, 100)), ('d4', (100, 100)), ('d5', (100, 100))]\n"
     ]
    }
   ],
   "source": [
    "sample = list(all_jacobians.values())[0]\n",
    "curr_jac = {}\n",
    "\n",
    "for layer in sample.keys():\n",
    "    curr_jac[layer] = np.zeros(sample[layer].shape)\n",
    "    for idx in all_jacobians.keys():   #class labels\n",
    "        tmp = all_jacobians[idx][layer]\n",
    "        curr_jac[layer] += tmp\n",
    "for key in curr_jac.keys():\n",
    "    curr_jac[key] -= np.amin(curr_jac[key])\n",
    "    curr_jac[key] /= np.amax(curr_jac[key])\n",
    "    \n",
    "distances = get_distances(curr_jac)\n",
    "print([(key, distances[key].shape) for key in distances.keys()])"
   ]
  },
  {
   "cell_type": "code",
   "execution_count": 144,
   "id": "28e66512",
   "metadata": {},
   "outputs": [],
   "source": [
    "data = get_MNIST_data()\n",
    "y_test = data['y_test']\n",
    "X_test = data['X_test']\n",
    "model=load_model()\n",
    "y_pred = np.argmax(model(X_test), axis=1)\n",
    "\n",
    "confusion = confusion_matrix(y_test, y_pred)"
   ]
  },
  {
   "cell_type": "code",
   "execution_count": 145,
   "id": "7207032d",
   "metadata": {},
   "outputs": [
    {
     "name": "stdout",
     "output_type": "stream",
     "text": [
      "model accuracy.  0.9764999747276306\n",
      "pre_acc:  0.9887754917144775\n",
      "Binary Search started ...\n",
      "     eps = 1.0, rr = 1.0\n",
      "     eps = 0.5, rr = 1.0\n",
      "     eps = 0.25, rr = 1.0\n",
      "     eps = 0.125, rr = 1.0\n",
      "     eps = 0.0625, rr = 1.0\n",
      "     eps = 0.03125, rr = 0.98\n",
      "     eps = 0.015625, rr = 0.86\n",
      "     eps = 0.0078125, rr = 0.64\n",
      "     eps = 0.00390625, rr = 0.25\n",
      "     eps = 0.001953125, rr = 0.04\n",
      "     eps = 0.0029296875, rr = 0.09\n",
      "     eps = 0.00341796875, rr = 0.2\n",
      "using d1 with eps=1e-07\n",
      "labels \n",
      " ['-1:(72,)', '0:(2,)', '1:(13,)', '2:(2,)', '3:(3,)', '4:(2,)', '5:(2,)', '6:(2,)', '7:(2,)']\n",
      "num neurons reduced=20\n",
      "Binary Search started ...\n",
      "     eps = 1.0, rr = 1.0\n",
      "     eps = 0.5, rr = 1.0\n",
      "     eps = 0.25, rr = 1.0\n",
      "     eps = 0.125, rr = 1.0\n",
      "     eps = 0.0625, rr = 1.0\n",
      "     eps = 0.03125, rr = 0.91\n",
      "     eps = 0.015625, rr = 0.57\n",
      "     eps = 0.0078125, rr = 0.19\n",
      "using d2 with eps=1e-07\n",
      "labels \n",
      " ['-1:(75,)', '0:(4,)', '1:(3,)', '2:(10,)', '3:(2,)', '4:(2,)', '5:(4,)']\n",
      "num neurons reduced=19\n",
      "Binary Search started ...\n",
      "     eps = 1.0, rr = 1.0\n",
      "     eps = 0.5, rr = 1.0\n",
      "     eps = 0.25, rr = 1.0\n",
      "     eps = 0.125, rr = 1.0\n",
      "     eps = 0.0625, rr = 1.0\n",
      "     eps = 0.03125, rr = 0.98\n",
      "     eps = 0.015625, rr = 0.76\n",
      "     eps = 0.0078125, rr = 0.19\n",
      "     eps = 0.01171875, rr = 0.54\n",
      "     eps = 0.009765625, rr = 0.31\n",
      "     eps = 0.0107421875, rr = 0.45\n",
      "     eps = 0.01025390625, rr = 0.39\n",
      "using d3 with eps=1e-07\n",
      "labels \n",
      " ['-1:(56,)', '0:(35,)', '1:(2,)', '2:(3,)', '3:(2,)', '4:(2,)']\n",
      "num neurons reduced=39\n",
      "Binary Search started ...\n",
      "     eps = 1.0, rr = 1.0\n",
      "     eps = 0.5, rr = 1.0\n",
      "     eps = 0.25, rr = 1.0\n",
      "     eps = 0.125, rr = 1.0\n",
      "     eps = 0.0625, rr = 0.97\n",
      "     eps = 0.03125, rr = 0.63\n",
      "     eps = 0.015625, rr = 0.1\n",
      "     eps = 0.0234375, rr = 0.26\n",
      "     eps = 0.02734375, rr = 0.47\n",
      "     eps = 0.025390625, rr = 0.35\n",
      "     eps = 0.0263671875, rr = 0.41\n",
      "using d4 with eps=1e-07\n",
      "labels \n",
      " ['-1:(48,)', '0:(9,)', '1:(2,)', '2:(22,)', '3:(2,)', '4:(3,)', '5:(2,)', '6:(2,)', '7:(2,)', '8:(4,)', '9:(2,)', '10:(2,)']\n",
      "num neurons reduced=41\n",
      "Binary Search started ...\n",
      "     eps = 1.0, rr = 1.0\n",
      "     eps = 0.5, rr = 1.0\n",
      "     eps = 0.25, rr = 1.0\n",
      "     eps = 0.125, rr = 1.0\n",
      "     eps = 0.0625, rr = 1.0\n",
      "     eps = 0.03125, rr = 0.83\n",
      "     eps = 0.015625, rr = 0.12\n",
      "     eps = 0.0234375, rr = 0.46\n",
      "     eps = 0.01953125, rr = 0.23\n",
      "     eps = 0.021484375, rr = 0.33\n",
      "     eps = 0.0224609375, rr = 0.38\n",
      "     eps = 0.02294921875, rr = 0.41\n",
      "using d5 with eps=1e-07\n",
      "labels \n",
      " ['-1:(50,)', '0:(22,)', '1:(6,)', '2:(2,)', '3:(6,)', '4:(4,)', '5:(3,)', '6:(2,)', '7:(3,)', '8:(2,)']\n",
      "num neurons reduced=41\n",
      "0.8309999704360962 {'rr': 0.31999999999999995, 'time': 5.8049156665802, 'rr_rel': 0.32}\n",
      "model accuracy on class 0.  0.5408163070678711\n"
     ]
    }
   ],
   "source": [
    "rrs = {1: 0.2, 2:0.2, 3:0.4, 4:0.4, 5:0.4}\n",
    "model = cluster_new(distances, eps, rrs, IDX=0,verbose=False)"
   ]
  },
  {
   "cell_type": "code",
   "execution_count": 148,
   "id": "371a5d4c",
   "metadata": {},
   "outputs": [
    {
     "data": {
      "image/png": "[encoded data removed]",
      "text/plain": [
       "<Figure size 432x432 with 1 Axes>"
      ]
     },
     "metadata": {
      "needs_background": "light"
     },
     "output_type": "display_data"
    }
   ],
   "source": [
    "import matplotlib.pyplot as plt\n",
    "\n",
    "y_pred_post = np.argmax(model(X_test), axis=1)\n",
    "confusion_post = confusion_matrix(y_test, y_pred_post)\n",
    "\n",
    "result = confusion_post - confusion\n",
    "vmin_ = np.min(result)\n",
    "plt.imshow(result, cmap='viridis', interpolation='nearest', vmin=vmin_-300)\n",
    "plt.rcParams[\"figure.figsize\"] = (6,6)\n",
    "\n",
    "\n",
    "for y in range(confusion.shape[0]):\n",
    "    for x in range(confusion.shape[1]):\n",
    "        plt.text(x, y, '%.0f' % result[y, x],  horizontalalignment='center',\n",
    "                 verticalalignment='center',)\n",
    "\n",
    "plt.xticks([i for i in range(confusion_post.shape[0])])\n",
    "plt.yticks([i for i in range(confusion_post.shape[0])])\n",
    "plt.xlabel('pred')\n",
    "plt.ylabel('true')\n",
    "plt.title('Change in predictions after clustering on averaged jacobians (rr={0}):'.format(0.32), fontsize=13)\n",
    "plt.show()"
   ]
  },
  {
   "cell_type": "code",
   "execution_count": null,
   "id": "64b5a9f4",
   "metadata": {},
   "outputs": [],
   "source": []
  },
  {
   "cell_type": "code",
   "execution_count": null,
   "id": "540522a2",
   "metadata": {},
   "outputs": [],
   "source": []
  },
  {
   "cell_type": "markdown",
   "id": "f2b92ed9",
   "metadata": {},
   "source": [
    "# old code:"
   ]
  },
  {
   "cell_type": "code",
   "execution_count": null,
   "id": "da1666ff",
   "metadata": {},
   "outputs": [],
   "source": []
  }
 ],
 "metadata": {
  "kernelspec": {
   "display_name": "Python 3 (ipykernel)",
   "language": "python",
   "name": "python3"
  },
  "language_info": {
   "codemirror_mode": {
    "name": "ipython",
    "version": 3
   },
   "file_extension": ".py",
   "mimetype": "text/x-python",
   "name": "python",
   "nbconvert_exporter": "python",
   "pygments_lexer": "ipython3",
   "version": "3.9.7"
  }
 },
 "nbformat": 4,
 "nbformat_minor": 5
}

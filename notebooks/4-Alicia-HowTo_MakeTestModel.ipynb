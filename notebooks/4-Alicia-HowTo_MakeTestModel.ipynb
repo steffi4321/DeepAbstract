{
 "cells": [
  {
   "cell_type": "code",
   "execution_count": 1,
   "id": "b71a3264",
   "metadata": {},
   "outputs": [
    {
     "name": "stderr",
     "output_type": "stream",
     "text": [
      "2021-11-18 20:52:28.618933: W tensorflow/stream_executor/platform/default/dso_loader.cc:64] Could not load dynamic library 'libcudart.so.11.0'; dlerror: libcudart.so.11.0: cannot open shared object file: No such file or directory\n",
      "2021-11-18 20:52:28.618960: I tensorflow/stream_executor/cuda/cudart_stub.cc:29] Ignore above cudart dlerror if you do not have a GPU set up on your machine.\n"
     ]
    }
   ],
   "source": [
    "import numpy as np\n",
    "import tensorflow as tf\n",
    "from tensorflow import keras\n",
    "from tensorflow.keras import layers\n",
    "import os\n",
    "os.environ['TF_CPP_MIN_LOG_LEVEL'] = '3' #for no tensorflow warnings\""
   ]
  },
  {
   "cell_type": "markdown",
   "id": "4d0f2a83",
   "metadata": {},
   "source": [
    "# Make and train model on MNIST"
   ]
  },
  {
   "cell_type": "code",
   "execution_count": null,
   "id": "1e466775",
   "metadata": {},
   "outputs": [],
   "source": [
    "# load dataset\n",
    "(x_train, y_train), (x_test, y_test) = keras.datasets.mnist.load_data()\n",
    "\n",
    "x_train = x_train.reshape(60000, 28, 28).astype(\"float32\") / 255\n",
    "x_test = x_test.reshape(10000, 28, 28).astype(\"float32\") / 255\n",
    "\n",
    "y_train = y_train.astype(\"float32\")\n",
    "y_test = y_test.astype(\"float32\")\n",
    "\n",
    "# Reserve 10,000 samples for validation\n",
    "x_val = x_train[-10000:]\n",
    "y_val = y_train[-10000:]\n",
    "x_train = x_train[:-10000]\n",
    "y_train = y_train[:-10000]"
   ]
  },
  {
   "cell_type": "code",
   "execution_count": null,
   "id": "1160a93b",
   "metadata": {},
   "outputs": [],
   "source": [
    "model = tf.keras.Sequential()\n",
    "model.add(tf.keras.layers.Flatten(input_shape=(28,28,1)))\n",
    "model.add(tf.keras.layers.Dense(50, activation=\"relu\"))\n",
    "model.add(tf.keras.layers.Dense(50, activation=\"relu\"))\n",
    "model.add(tf.keras.layers.Dense(50, activation=\"relu\"))\n",
    "model.add(tf.keras.layers.Dense(10))\n",
    "model.summary()"
   ]
  },
  {
   "cell_type": "code",
   "execution_count": null,
   "id": "239ca042",
   "metadata": {},
   "outputs": [],
   "source": [
    "def softmax_loss():        \n",
    "    def loss(y_true, y_pred):\n",
    "        y_soft = tf.keras.activations.softmax(y_pred, axis=1)\n",
    "        loss_soft=keras.losses.SparseCategoricalCrossentropy()(y_true, y_soft)\n",
    "        return loss_soft\n",
    "    return loss"
   ]
  },
  {
   "cell_type": "code",
   "execution_count": null,
   "id": "7cfcf9b4",
   "metadata": {},
   "outputs": [],
   "source": [
    "model.compile(\n",
    "    optimizer=keras.optimizers.Adam(learning_rate=3e-4),\n",
    "    loss=softmax_loss(), \n",
    "    metrics=[keras.metrics.SparseCategoricalAccuracy()],\n",
    ")"
   ]
  },
  {
   "cell_type": "code",
   "execution_count": null,
   "id": "7e1ab691",
   "metadata": {},
   "outputs": [],
   "source": [
    "history = model.fit(\n",
    "    x_train,\n",
    "    y_train,\n",
    "    batch_size=64,\n",
    "    epochs=20,\n",
    "    validation_data=(x_val, y_val),\n",
    "    verbose=2,    \n",
    ")"
   ]
  },
  {
   "cell_type": "code",
   "execution_count": null,
   "id": "b6989586",
   "metadata": {},
   "outputs": [],
   "source": [
    "test_loss, test_acc = model.evaluate(x_test,  y_test, verbose=1)"
   ]
  },
  {
   "cell_type": "markdown",
   "id": "4e8b8f37",
   "metadata": {},
   "source": [
    "# save and load model"
   ]
  },
  {
   "cell_type": "code",
   "execution_count": null,
   "id": "578a2d93",
   "metadata": {},
   "outputs": [],
   "source": [
    "model.save('MNIST_2x50.h5')"
   ]
  },
  {
   "cell_type": "code",
   "execution_count": null,
   "id": "7ea17857",
   "metadata": {},
   "outputs": [],
   "source": [
    "new_model = tf.keras.models.load_model('MNIST_2x50.h5', custom_objects={'loss': softmax_loss()})"
   ]
  },
  {
   "cell_type": "markdown",
   "id": "94308ed3",
   "metadata": {},
   "source": [
    "# use model in DeepAbstract"
   ]
  },
  {
   "cell_type": "code",
   "execution_count": null,
   "id": "0b016034",
   "metadata": {},
   "outputs": [],
   "source": [
    "import os\n",
    "import sys\n",
    "os.environ['TF_CPP_MIN_LOG_LEVEL'] = '3' #for no tensorflow warnings\"\n",
    "sys.path.append(os.path.abspath('../..'))\n",
    "\n",
    "from src import *\n",
    "from models import *\n",
    "from src.main import Cluster_Class, set_file_model, set_keras_model\n",
    "from src.models import Keras_Model"
   ]
  },
  {
   "cell_type": "code",
   "execution_count": null,
   "id": "ddf5345a",
   "metadata": {},
   "outputs": [],
   "source": [
    "m = set_keras_model(new_model) # layer printed last does not get clustered"
   ]
  },
  {
   "cell_type": "code",
   "execution_count": null,
   "id": "eb870353",
   "metadata": {},
   "outputs": [],
   "source": [
    "m.test_accuracy(True)"
   ]
  },
  {
   "cell_type": "code",
   "execution_count": null,
   "id": "734c6986",
   "metadata": {},
   "outputs": [],
   "source": [
    "cc = Cluster_Class(m, [50-3, 50-2, 50-1], cl_method=\"dbscan\")\n",
    "cc.perform_clustering()"
   ]
  }
 ],
 "metadata": {
  "kernelspec": {
   "display_name": "Python 3 (ipykernel)",
   "language": "python",
   "name": "python3"
  },
  "language_info": {
   "codemirror_mode": {
    "name": "ipython",
    "version": 3
   },
   "file_extension": ".py",
   "mimetype": "text/x-python",
   "name": "python",
   "nbconvert_exporter": "python",
   "pygments_lexer": "ipython3",
   "version": "3.9.7"
  }
 },
 "nbformat": 4,
 "nbformat_minor": 5
}

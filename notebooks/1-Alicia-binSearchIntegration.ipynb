{
 "cells": [
  {
   "cell_type": "code",
   "execution_count": 1,
   "metadata": {},
   "outputs": [],
   "source": [
    "import os\n",
    "import sys\n",
    "sys.path.append(os.path.abspath('../..'))\n",
    "os.environ['TF_CPP_MIN_LOG_LEVEL'] = '3' #for no tensorflow warnings"
   ]
  },
  {
   "cell_type": "markdown",
   "metadata": {},
   "source": [
    "# Test BinarySearch in src/overall.py"
   ]
  },
  {
   "cell_type": "code",
   "execution_count": 4,
   "metadata": {
    "pycharm": {
     "is_executing": false
    }
   },
   "outputs": [
    {
     "name": "stdout",
     "output_type": "stream",
     "text": [
      "Warning: No config for GTSRB data provided\n"
     ]
    }
   ],
   "source": [
    "from src.overall import Search_Space\n",
    "from models import *\n",
    "from src.main import Cluster_Class, set_file_model"
   ]
  },
  {
   "cell_type": "code",
   "execution_count": 5,
   "metadata": {},
   "outputs": [
    {
     "name": "stdout",
     "output_type": "stream",
     "text": [
      "No GPU found\n"
     ]
    }
   ],
   "source": [
    "import os\n",
    "import tensorflow as tf\n",
    "\n",
    "\n",
    "os.environ['CUDA_VISIBLE_DEVICES'] = '-1'\n",
    "\n",
    "if tf.test.gpu_device_name():\n",
    "    print('GPU found')\n",
    "else:\n",
    "    print(\"No GPU found\")"
   ]
  },
  {
   "cell_type": "code",
   "execution_count": 7,
   "metadata": {},
   "outputs": [],
   "source": [
    "def run_clustering_2(netfile, layers):\n",
    "    print(\"-----KMean-----\")\n",
    "    SS = Search_Space((netfile,len(layers),0))\n",
    "    SS.run_cluster_method(console=True, method=\"kmeans\")\n",
    "    print(\"-----DBSCAN-----\")\n",
    "    SS = Search_Space((netfile,len(layers),0))\n",
    "    SS.run_cluster_method(console=True, method=\"dbscan\")"
   ]
  },
  {
   "cell_type": "code",
   "execution_count": null,
   "metadata": {
    "scrolled": false
   },
   "outputs": [],
   "source": [
    "run_clustering_2(\"../../models/MNIST_6x50.tf\",[50]*6)"
   ]
  },
  {
   "cell_type": "markdown",
   "metadata": {},
   "source": [
    "# Test BinarySearch in src/clusterparam_search.py"
   ]
  },
  {
   "cell_type": "code",
   "execution_count": 5,
   "metadata": {},
   "outputs": [],
   "source": [
    "from src import *\n",
    "import src.clusterparam_search as cps\n",
    "from models import *\n",
    "from src.main import set_file_model"
   ]
  },
  {
   "cell_type": "code",
   "execution_count": 6,
   "metadata": {},
   "outputs": [],
   "source": [
    "def run_new_clustering(netfile):\n",
    "    model = set_file_model(netfile)\n",
    "    SS = cps.Search_Space(model)\n",
    "    SS.perform_binarySearch(verbose=True, method=\"dbscan\")"
   ]
  },
  {
   "cell_type": "code",
   "execution_count": 7,
   "metadata": {},
   "outputs": [
    {
     "name": "stdout",
     "output_type": "stream",
     "text": [
      "Layer  5\n",
      "Layer size  50\n",
      " l:  0  r: 50\n",
      "    0.9746999740600586  >  0.9645000004768371  --> bigger\n",
      "  --> We would cluster layer  5  with  49\n",
      "Layer  4\n",
      "Layer size  50\n",
      " l:  0  r: 50\n",
      "    0.9639000296592712  <  0.9645000004768371  --> smaller\n",
      "  --> We would cluster layer  4  with  18\n",
      "Layer  3\n",
      "Layer size  50\n",
      " l:  0  r: 50\n",
      "    0.8575000166893005  <  0.9645000004768371  --> smaller\n",
      "  --> We would cluster layer  3  with  21\n",
      "Layer  2\n",
      "Layer size  50\n",
      " l:  0  r: 50\n",
      "    0.881600022315979  <  0.9645000004768371  --> smaller\n",
      "  --> We would cluster layer  2  with  18\n",
      "Layer  1\n",
      "Layer size  50\n",
      " l:  0  r: 50\n",
      "    0.9545999765396118  <  0.9645000004768371  --> smaller\n",
      "  --> We would cluster layer  1  with  15\n",
      "Layer  0\n",
      "Layer size  50\n",
      " l:  0  r: 50\n",
      "    0.8658999800682068  <  0.9645000004768371  --> smaller\n",
      "  --> We would cluster layer  0  with  16\n",
      "Accuracy after: 0.968400\n",
      "Clusters:  [16, 15, 18, 21, 18, 49]\n",
      "Reduction-Rate:  0.15\n",
      "Time:  122.07716774940491\n"
     ]
    }
   ],
   "source": [
    "run_new_clustering(\"../../models/MNIST_6x50.tf\")"
   ]
  },
  {
   "cell_type": "code",
   "execution_count": null,
   "metadata": {},
   "outputs": [],
   "source": [
    "model = set_file_model(\"../../models/MNIST_6x50.tf\")\n",
    "params, dic = cps.get_params(model, verbose=False)\n",
    "print(params, dic)"
   ]
  },
  {
   "cell_type": "code",
   "execution_count": null,
   "metadata": {},
   "outputs": [],
   "source": []
  }
 ],
 "metadata": {
  "kernelspec": {
   "display_name": "Python 3 (ipykernel)",
   "language": "python",
   "name": "python3"
  },
  "language_info": {
   "codemirror_mode": {
    "name": "ipython",
    "version": 3
   },
   "file_extension": ".py",
   "mimetype": "text/x-python",
   "name": "python",
   "nbconvert_exporter": "python",
   "pygments_lexer": "ipython3",
   "version": "3.9.6"
  },
  "pycharm": {
   "stem_cell": {
    "cell_type": "raw",
    "metadata": {
     "collapsed": false
    },
    "source": []
   }
  },
  "varInspector": {
   "cols": {
    "lenName": 16,
    "lenType": 16,
    "lenVar": 40
   },
   "kernels_config": {
    "python": {
     "delete_cmd_postfix": "",
     "delete_cmd_prefix": "del ",
     "library": "var_list.py",
     "varRefreshCmd": "print(var_dic_list())"
    },
    "r": {
     "delete_cmd_postfix": ") ",
     "delete_cmd_prefix": "rm(",
     "library": "var_list.r",
     "varRefreshCmd": "cat(var_dic_list()) "
    }
   },
   "types_to_exclude": [
    "module",
    "function",
    "builtin_function_or_method",
    "instance",
    "_Feature"
   ],
   "window_display": false
  }
 },
 "nbformat": 4,
 "nbformat_minor": 2
}

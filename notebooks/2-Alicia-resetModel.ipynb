{
 "cells": [
  {
   "cell_type": "code",
   "execution_count": null,
   "id": "1a2186ca",
   "metadata": {},
   "outputs": [],
   "source": [
    "import os\n",
    "import sys\n",
    "sys.path.append(os.path.abspath('../..'))\n",
    "os.environ['TF_CPP_MIN_LOG_LEVEL'] = '3' #for no tensorflow warnings"
   ]
  },
  {
   "cell_type": "code",
   "execution_count": null,
   "id": "d062110f",
   "metadata": {},
   "outputs": [],
   "source": [
    "from src.main import set_file_model\n",
    "import src.models\n",
    "from src.clustering import Cluster_Class"
   ]
  },
  {
   "cell_type": "code",
   "execution_count": null,
   "id": "0b7fdd71",
   "metadata": {},
   "outputs": [],
   "source": [
    "def compare_keras_models(m1, m2):\n",
    "    for l1, l2 in zip(m1.model.layers, m2.model.layers):\n",
    "        equal = True\n",
    "        for i1, i2 in zip(l1.get_weights(), l2.get_weights()):\n",
    "            equal = (i1 == i2)\n",
    "        print(equal)"
   ]
  },
  {
   "cell_type": "code",
   "execution_count": null,
   "id": "beff5105",
   "metadata": {},
   "outputs": [],
   "source": [
    "model1 = set_file_model(\"../../models/MNIST_6x50.tf\")\n",
    "cc1 = Cluster_Class(model1, param_layer=[10], cl_method=\"dbscan\")\n",
    "cc1.perform_clustering()\n",
    "model1.reload()"
   ]
  },
  {
   "cell_type": "code",
   "execution_count": null,
   "id": "2370cdec",
   "metadata": {},
   "outputs": [],
   "source": [
    "model2 = set_file_model(\"../../models/MNIST_6x50.tf\")\n",
    "cc2 = Cluster_Class(model2 ,param_layer=[10], cl_method=\"dbscan\")\n",
    "#cc2.perform_clustering()"
   ]
  },
  {
   "cell_type": "code",
   "execution_count": null,
   "id": "28a485fc",
   "metadata": {},
   "outputs": [],
   "source": [
    "compare_keras_models(model1, model2)"
   ]
  },
  {
   "cell_type": "code",
   "execution_count": null,
   "id": "04a9b25e",
   "metadata": {},
   "outputs": [],
   "source": [
    "print(cc1.model.U == cc2.model.U)\n",
    "for k in model1.params:\n",
    "        print(k, cc2.model.params[k]==cc1.model.params[k])"
   ]
  },
  {
   "cell_type": "markdown",
   "id": "d6b098f0",
   "metadata": {},
   "source": [
    "# Make these two have same outcome:"
   ]
  },
  {
   "cell_type": "code",
   "execution_count": null,
   "id": "803ca30e",
   "metadata": {},
   "outputs": [],
   "source": [
    "cc1.model.update_new()\n",
    "#cc2.set_model(set_file_model(\"../../models/MNIST_6x50.tf\"))"
   ]
  },
  {
   "cell_type": "code",
   "execution_count": null,
   "id": "dab5bdde",
   "metadata": {
    "scrolled": true
   },
   "outputs": [],
   "source": [
    "print(cc1.model.U == cc2.model.U)\n",
    "for k in cc1.model.params:\n",
    "        print(k, cc2.model.params[k]==cc1.model.params[k])"
   ]
  },
  {
   "cell_type": "code",
   "execution_count": null,
   "id": "c3b72bfb",
   "metadata": {},
   "outputs": [],
   "source": [
    "compare_keras_models(model1, model2)"
   ]
  },
  {
   "cell_type": "code",
   "execution_count": null,
   "id": "995ead1c",
   "metadata": {},
   "outputs": [],
   "source": []
  }
 ],
 "metadata": {
  "kernelspec": {
   "display_name": "Python 3 (ipykernel)",
   "language": "python",
   "name": "python3"
  },
  "language_info": {
   "codemirror_mode": {
    "name": "ipython",
    "version": 3
   },
   "file_extension": ".py",
   "mimetype": "text/x-python",
   "name": "python",
   "nbconvert_exporter": "python",
   "pygments_lexer": "ipython3",
   "version": "3.9.7"
  }
 },
 "nbformat": 4,
 "nbformat_minor": 5
}
